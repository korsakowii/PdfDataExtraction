{
 "cells": [
  {
   "cell_type": "markdown",
   "metadata": {},
   "source": [
    "# Author & Title Extraction"
   ]
  },
  {
   "cell_type": "code",
   "execution_count": 58,
   "metadata": {},
   "outputs": [],
   "source": [
    "# load module\n",
    "import glob\n",
    "import os\n",
    "#pip install PyPDF2 # download\n",
    "import PyPDF2 as pdf\n",
    "from PyPDF2 import PdfFileWriter, PdfFileReader"
   ]
  },
  {
   "cell_type": "code",
   "execution_count": 59,
   "metadata": {},
   "outputs": [
    {
     "data": {
      "text/plain": [
       "['/Users/yanxiaoyu/Desktop/Graduate/RA/part3_10/Charoenlarp 1973.pdf',\n",
       " '/Users/yanxiaoyu/Desktop/Graduate/RA/part3_10/Camargo 2012.pdf',\n",
       " '/Users/yanxiaoyu/Desktop/Graduate/RA/part3_10/Cabalda 2009.pdf',\n",
       " '/Users/yanxiaoyu/Desktop/Graduate/RA/part3_10/Benjeddou 2019.pdf',\n",
       " '/Users/yanxiaoyu/Desktop/Graduate/RA/part3_10/Chimhashu 2018.pdf',\n",
       " '/Users/yanxiaoyu/Desktop/Graduate/RA/part3_10/Bates 1994.pdf',\n",
       " '/Users/yanxiaoyu/Desktop/Graduate/RA/part3_10/Cao 2013.pdf',\n",
       " '/Users/yanxiaoyu/Desktop/Graduate/RA/part3_10/Carter 1969.pdf',\n",
       " '/Users/yanxiaoyu/Desktop/Graduate/RA/part3_10/Charoenlarp 1980.pdf',\n",
       " '/Users/yanxiaoyu/Desktop/Graduate/RA/part3_10/Cavan 1993.pdf']"
      ]
     },
     "execution_count": 59,
     "metadata": {},
     "output_type": "execute_result"
    }
   ],
   "source": [
    "# file path I\n",
    "pdf_path = '/Users/yanxiaoyu/Desktop/Graduate/RA/part3_10'\n",
    "#pdfs = os.listdir(filePath)\n",
    "pdfs = glob.glob(\"{}/*.pdf\".format(pdf_path))\n",
    "pdfs"
   ]
  },
  {
   "cell_type": "code",
   "execution_count": 60,
   "metadata": {},
   "outputs": [],
   "source": [
    "# extract function\n",
    "from pdfminer.pdfinterp import PDFResourceManager, PDFPageInterpreter\n",
    "from pdfminer.converter import TextConverter\n",
    "from pdfminer.layout import LAParams\n",
    "from pdfminer.pdfpage import PDFPage\n",
    "from io import StringIO\n",
    "\n",
    "def extract_pdf_content(pdf):\n",
    "    rsrcmgr = PDFResourceManager()\n",
    "    codec = 'utf-8'\n",
    "    outfp = StringIO()\n",
    "    laparams = LAParams()\n",
    "    device = TextConverter(rsrcmgr=rsrcmgr, outfp=outfp, codec=codec, laparams=laparams)\n",
    "    with open(pdf, 'rb') as fp:\n",
    "        interpreter = PDFPageInterpreter(rsrcmgr, device)\n",
    "        password = \"\"\n",
    "        maxpages = 0\n",
    "        caching = True\n",
    "        pagenos=set()\n",
    "        for page in PDFPage.get_pages(fp, pagenos, maxpages=maxpages, password=password,caching=caching, check_extractable=True):\n",
    "            interpreter.process_page(page)\n",
    "    mystr = outfp.getvalue()\n",
    "    device.close()\n",
    "    outfp.close()\n",
    "    return mystr"
   ]
  },
  {
   "cell_type": "code",
   "execution_count": 61,
   "metadata": {},
   "outputs": [],
   "source": [
    "content = extract_pdf_content(pdfs[1])\n",
    "#content\n",
    "#print(content)"
   ]
  },
  {
   "cell_type": "code",
   "execution_count": 62,
   "metadata": {},
   "outputs": [
    {
     "name": "stdout",
     "output_type": "stream",
     "text": [
      "Extracting content from /Users/yanxiaoyu/Desktop/Graduate/RA/part3_10/Charoenlarp 1973.pdf ...\n",
      "Extracting content from /Users/yanxiaoyu/Desktop/Graduate/RA/part3_10/Camargo 2012.pdf ...\n",
      "Extracting content from /Users/yanxiaoyu/Desktop/Graduate/RA/part3_10/Cabalda 2009.pdf ...\n",
      "Extracting content from /Users/yanxiaoyu/Desktop/Graduate/RA/part3_10/Benjeddou 2019.pdf ...\n",
      "Extracting content from /Users/yanxiaoyu/Desktop/Graduate/RA/part3_10/Chimhashu 2018.pdf ...\n",
      "Extracting content from /Users/yanxiaoyu/Desktop/Graduate/RA/part3_10/Bates 1994.pdf ...\n",
      "Extracting content from /Users/yanxiaoyu/Desktop/Graduate/RA/part3_10/Cao 2013.pdf ...\n",
      "Extracting content from /Users/yanxiaoyu/Desktop/Graduate/RA/part3_10/Carter 1969.pdf ...\n",
      "Extracting content from /Users/yanxiaoyu/Desktop/Graduate/RA/part3_10/Charoenlarp 1980.pdf ...\n",
      "Extracting content from /Users/yanxiaoyu/Desktop/Graduate/RA/part3_10/Cavan 1993.pdf ...\n"
     ]
    }
   ],
   "source": [
    "mydict = {}\n",
    "for pdf in pdfs:\n",
    "    key = pdf.split('/')[-1]\n",
    "    if not key in mydict:\n",
    "        print(\"Extracting content from {} ...\".format(pdf))\n",
    "        mydict[key] = extract_pdf_content(pdf)"
   ]
  },
  {
   "cell_type": "code",
   "execution_count": 63,
   "metadata": {},
   "outputs": [
    {
     "data": {
      "text/plain": [
       "dict_keys(['Charoenlarp 1973.pdf', 'Camargo 2012.pdf', 'Cabalda 2009.pdf', 'Benjeddou 2019.pdf', 'Chimhashu 2018.pdf', 'Bates 1994.pdf', 'Cao 2013.pdf', 'Carter 1969.pdf', 'Charoenlarp 1980.pdf', 'Cavan 1993.pdf'])"
      ]
     },
     "execution_count": 63,
     "metadata": {},
     "output_type": "execute_result"
    }
   ],
   "source": [
    "mydict.keys()"
   ]
  },
  {
   "cell_type": "code",
   "execution_count": 64,
   "metadata": {},
   "outputs": [
    {
     "data": {
      "text/html": [
       "<div>\n",
       "<style scoped>\n",
       "    .dataframe tbody tr th:only-of-type {\n",
       "        vertical-align: middle;\n",
       "    }\n",
       "\n",
       "    .dataframe tbody tr th {\n",
       "        vertical-align: top;\n",
       "    }\n",
       "\n",
       "    .dataframe thead th {\n",
       "        text-align: right;\n",
       "    }\n",
       "</style>\n",
       "<table border=\"1\" class=\"dataframe\">\n",
       "  <thead>\n",
       "    <tr style=\"text-align: right;\">\n",
       "      <th></th>\n",
       "      <th>path</th>\n",
       "      <th>content</th>\n",
       "    </tr>\n",
       "  </thead>\n",
       "  <tbody>\n",
       "    <tr>\n",
       "      <th>0</th>\n",
       "      <td>Charoenlarp 1973.pdf</td>\n",
       "      <td></td>\n",
       "    </tr>\n",
       "    <tr>\n",
       "      <th>1</th>\n",
       "      <td>Camargo 2012.pdf</td>\n",
       "      <td>Randomized Trial of Vitamin D Supplementation ...</td>\n",
       "    </tr>\n",
       "    <tr>\n",
       "      <th>2</th>\n",
       "      <td>Cabalda 2009.pdf</td>\n",
       "      <td>Journal of the American College of Nutrition\\n...</td>\n",
       "    </tr>\n",
       "    <tr>\n",
       "      <th>3</th>\n",
       "      <td>Benjeddou 2019.pdf</td>\n",
       "      <td>461\\n\\nARTICLE\\n\\nEffect of multiple micronutr...</td>\n",
       "    </tr>\n",
       "    <tr>\n",
       "      <th>4</th>\n",
       "      <td>Chimhashu 2018.pdf</td>\n",
       "      <td>British Journal of Nutrition (2018), 119, 610–...</td>\n",
       "    </tr>\n",
       "    <tr>\n",
       "      <th>5</th>\n",
       "      <td>Bates 1994.pdf</td>\n",
       "      <td>British Journal  of Nutrition  (1994) 72, 601-...</td>\n",
       "    </tr>\n",
       "    <tr>\n",
       "      <th>6</th>\n",
       "      <td>Cao 2013.pdf</td>\n",
       "      <td>214                                           ...</td>\n",
       "    </tr>\n",
       "    <tr>\n",
       "      <th>7</th>\n",
       "      <td>Carter 1969.pdf</td>\n",
       "      <td>TIlE\\n\\nAMERICAN\\n\\nJOURNAL\\n\\nOF CLINICAL\\n\\n...</td>\n",
       "    </tr>\n",
       "    <tr>\n",
       "      <th>8</th>\n",
       "      <td>Charoenlarp 1980.pdf</td>\n",
       "      <td></td>\n",
       "    </tr>\n",
       "    <tr>\n",
       "      <th>9</th>\n",
       "      <td>Cavan 1993.pdf</td>\n",
       "      <td>Growth\\nchildren\\nintervention\\n\\nand\\nbody\\ni...</td>\n",
       "    </tr>\n",
       "  </tbody>\n",
       "</table>\n",
       "</div>"
      ],
      "text/plain": [
       "                   path                                            content\n",
       "0  Charoenlarp 1973.pdf                                              \n",
       "\n",
       "\n",
       "\n",
       "\n",
       "\n",
       "1      Camargo 2012.pdf  Randomized Trial of Vitamin D Supplementation ...\n",
       "2      Cabalda 2009.pdf  Journal of the American College of Nutrition\\n...\n",
       "3    Benjeddou 2019.pdf  461\\n\\nARTICLE\\n\\nEffect of multiple micronutr...\n",
       "4    Chimhashu 2018.pdf  British Journal of Nutrition (2018), 119, 610–...\n",
       "5        Bates 1994.pdf  British Journal  of Nutrition  (1994) 72, 601-...\n",
       "6          Cao 2013.pdf  214                                           ...\n",
       "7       Carter 1969.pdf  TIlE\\n\\nAMERICAN\\n\\nJOURNAL\\n\\nOF CLINICAL\\n\\n...\n",
       "8  Charoenlarp 1980.pdf                                            \n",
       "\n",
       "\n",
       "\n",
       "\n",
       "\n",
       "\n",
       "\n",
       "9        Cavan 1993.pdf  Growth\\nchildren\\nintervention\\n\\nand\\nbody\\ni..."
      ]
     },
     "execution_count": 64,
     "metadata": {},
     "output_type": "execute_result"
    }
   ],
   "source": [
    "import pandas as pd\n",
    "df = pd.DataFrame.from_dict(mydict, orient = 'index').reset_index()\n",
    "df.columns = [\"path\", \"content\"]\n",
    "df"
   ]
  },
  {
   "cell_type": "code",
   "execution_count": 65,
   "metadata": {},
   "outputs": [
    {
     "data": {
      "text/html": [
       "<div>\n",
       "<style scoped>\n",
       "    .dataframe tbody tr th:only-of-type {\n",
       "        vertical-align: middle;\n",
       "    }\n",
       "\n",
       "    .dataframe tbody tr th {\n",
       "        vertical-align: top;\n",
       "    }\n",
       "\n",
       "    .dataframe thead th {\n",
       "        text-align: right;\n",
       "    }\n",
       "</style>\n",
       "<table border=\"1\" class=\"dataframe\">\n",
       "  <thead>\n",
       "    <tr style=\"text-align: right;\">\n",
       "      <th></th>\n",
       "      <th>path</th>\n",
       "      <th>content</th>\n",
       "      <th>length</th>\n",
       "    </tr>\n",
       "  </thead>\n",
       "  <tbody>\n",
       "    <tr>\n",
       "      <th>0</th>\n",
       "      <td>Charoenlarp 1973.pdf</td>\n",
       "      <td></td>\n",
       "      <td>5</td>\n",
       "    </tr>\n",
       "    <tr>\n",
       "      <th>1</th>\n",
       "      <td>Camargo 2012.pdf</td>\n",
       "      <td>Randomized Trial of Vitamin D Supplementation ...</td>\n",
       "      <td>35528</td>\n",
       "    </tr>\n",
       "    <tr>\n",
       "      <th>2</th>\n",
       "      <td>Cabalda 2009.pdf</td>\n",
       "      <td>Journal of the American College of Nutrition\\n...</td>\n",
       "      <td>47156</td>\n",
       "    </tr>\n",
       "    <tr>\n",
       "      <th>3</th>\n",
       "      <td>Benjeddou 2019.pdf</td>\n",
       "      <td>461\\n\\nARTICLE\\n\\nEffect of multiple micronutr...</td>\n",
       "      <td>42246</td>\n",
       "    </tr>\n",
       "    <tr>\n",
       "      <th>4</th>\n",
       "      <td>Chimhashu 2018.pdf</td>\n",
       "      <td>British Journal of Nutrition (2018), 119, 610–...</td>\n",
       "      <td>53178</td>\n",
       "    </tr>\n",
       "  </tbody>\n",
       "</table>\n",
       "</div>"
      ],
      "text/plain": [
       "                   path                                            content  \\\n",
       "0  Charoenlarp 1973.pdf                                              \n",
       "\n",
       "\n",
       "\n",
       "\n",
       "   \n",
       "1      Camargo 2012.pdf  Randomized Trial of Vitamin D Supplementation ...   \n",
       "2      Cabalda 2009.pdf  Journal of the American College of Nutrition\\n...   \n",
       "3    Benjeddou 2019.pdf  461\\n\\nARTICLE\\n\\nEffect of multiple micronutr...   \n",
       "4    Chimhashu 2018.pdf  British Journal of Nutrition (2018), 119, 610–...   \n",
       "\n",
       "   length  \n",
       "0       5  \n",
       "1   35528  \n",
       "2   47156  \n",
       "3   42246  \n",
       "4   53178  "
      ]
     },
     "execution_count": 65,
     "metadata": {},
     "output_type": "execute_result"
    }
   ],
   "source": [
    "# Number of words in a pdf\n",
    "df[\"length\"] = df.content.apply(lambda x: len(x))\n",
    "df.head()"
   ]
  },
  {
   "cell_type": "code",
   "execution_count": 66,
   "metadata": {},
   "outputs": [
    {
     "data": {
      "text/html": [
       "<div>\n",
       "<style scoped>\n",
       "    .dataframe tbody tr th:only-of-type {\n",
       "        vertical-align: middle;\n",
       "    }\n",
       "\n",
       "    .dataframe tbody tr th {\n",
       "        vertical-align: top;\n",
       "    }\n",
       "\n",
       "    .dataframe thead th {\n",
       "        text-align: right;\n",
       "    }\n",
       "</style>\n",
       "<table border=\"1\" class=\"dataframe\">\n",
       "  <thead>\n",
       "    <tr style=\"text-align: right;\">\n",
       "      <th></th>\n",
       "      <th>path</th>\n",
       "      <th>content</th>\n",
       "      <th>length</th>\n",
       "      <th>Author</th>\n",
       "      <th>Year</th>\n",
       "    </tr>\n",
       "  </thead>\n",
       "  <tbody>\n",
       "    <tr>\n",
       "      <th>0</th>\n",
       "      <td>Charoenlarp 1973.pdf</td>\n",
       "      <td></td>\n",
       "      <td>5</td>\n",
       "      <td>Charoenlarp</td>\n",
       "      <td>1973</td>\n",
       "    </tr>\n",
       "    <tr>\n",
       "      <th>1</th>\n",
       "      <td>Camargo 2012.pdf</td>\n",
       "      <td>Randomized Trial of Vitamin D Supplementation ...</td>\n",
       "      <td>35528</td>\n",
       "      <td>Camargo</td>\n",
       "      <td>2012</td>\n",
       "    </tr>\n",
       "    <tr>\n",
       "      <th>2</th>\n",
       "      <td>Cabalda 2009.pdf</td>\n",
       "      <td>Journal of the American College of Nutrition\\n...</td>\n",
       "      <td>47156</td>\n",
       "      <td>Cabalda</td>\n",
       "      <td>2009</td>\n",
       "    </tr>\n",
       "    <tr>\n",
       "      <th>3</th>\n",
       "      <td>Benjeddou 2019.pdf</td>\n",
       "      <td>461\\n\\nARTICLE\\n\\nEffect of multiple micronutr...</td>\n",
       "      <td>42246</td>\n",
       "      <td>Benjeddou</td>\n",
       "      <td>2019</td>\n",
       "    </tr>\n",
       "    <tr>\n",
       "      <th>4</th>\n",
       "      <td>Chimhashu 2018.pdf</td>\n",
       "      <td>British Journal of Nutrition (2018), 119, 610–...</td>\n",
       "      <td>53178</td>\n",
       "      <td>Chimhashu</td>\n",
       "      <td>2018</td>\n",
       "    </tr>\n",
       "  </tbody>\n",
       "</table>\n",
       "</div>"
      ],
      "text/plain": [
       "                   path                                            content  \\\n",
       "0  Charoenlarp 1973.pdf                                              \n",
       "\n",
       "\n",
       "\n",
       "\n",
       "   \n",
       "1      Camargo 2012.pdf  Randomized Trial of Vitamin D Supplementation ...   \n",
       "2      Cabalda 2009.pdf  Journal of the American College of Nutrition\\n...   \n",
       "3    Benjeddou 2019.pdf  461\\n\\nARTICLE\\n\\nEffect of multiple micronutr...   \n",
       "4    Chimhashu 2018.pdf  British Journal of Nutrition (2018), 119, 610–...   \n",
       "\n",
       "   length       Author  Year  \n",
       "0       5  Charoenlarp  1973  \n",
       "1   35528      Camargo  2012  \n",
       "2   47156      Cabalda  2009  \n",
       "3   42246    Benjeddou  2019  \n",
       "4   53178    Chimhashu  2018  "
      ]
     },
     "execution_count": 66,
     "metadata": {},
     "output_type": "execute_result"
    }
   ],
   "source": [
    "new = df[\"path\"].str.split(\".\", expand = True)[0].str.split(\" \", expand = True) \n",
    "df['Author'] = new[0]\n",
    "df['Year'] = new[1]\n",
    "df.head()"
   ]
  },
  {
   "cell_type": "code",
   "execution_count": 67,
   "metadata": {},
   "outputs": [
    {
     "data": {
      "text/plain": [
       "(array([0, 1, 2, 3, 4, 5, 6, 7, 8, 9]), <a list of 10 Text xticklabel objects>)"
      ]
     },
     "execution_count": 67,
     "metadata": {},
     "output_type": "execute_result"
    },
    {
     "data": {
      "image/png": "[encoded data removed]",
      "text/plain": [
       "<Figure size 1008x432 with 1 Axes>"
      ]
     },
     "metadata": {
      "needs_background": "light"
     },
     "output_type": "display_data"
    }
   ],
   "source": [
    "# words visualization\n",
    "%matplotlib inline\n",
    "import matplotlib.pyplot as plt\n",
    "plt.figure(figsize=(14, 6))\n",
    "df.set_index('path').length.plot(kind='bar')\n",
    "plt.xticks(rotation=45)"
   ]
  },
  {
   "cell_type": "code",
   "execution_count": 68,
   "metadata": {},
   "outputs": [],
   "source": [
    "def get_mydict_from_pdf_path(mydict, pdf_path):\n",
    "    pdfs = glob.glob(\"{}/*.pdf\".format(pdf_path))\n",
    "    for pdf in pdfs:\n",
    "        key = pdf.split('/')[-1]\n",
    "        if not key in mydict:\n",
    "            print(\"Extracting content from {} ...\".format(pdf))\n",
    "            mydict[key] = extract_pdf_content(pdf)\n",
    "    return mydict"
   ]
  },
  {
   "cell_type": "code",
   "execution_count": 69,
   "metadata": {},
   "outputs": [],
   "source": [
    "def make_df_from_mydict(mydict):\n",
    "    df = pd.DataFrame.from_dict(mydict, orient='index').reset_index()\n",
    "    df.columns = [\"path\", \"content\"]\n",
    "    return df"
   ]
  },
  {
   "cell_type": "code",
   "execution_count": 70,
   "metadata": {},
   "outputs": [],
   "source": [
    "def draw_df(df):\n",
    "    df[\"length\"] = df.content.apply(lambda x: len(x))\n",
    "    plt.figure(figsize=(14, 6))\n",
    "    df.set_index('path').length.plot(kind='bar')\n",
    "    plt.xticks(rotation=45)"
   ]
  },
  {
   "cell_type": "code",
   "execution_count": 71,
   "metadata": {},
   "outputs": [
    {
     "data": {
      "image/png": "[encoded data removed]",
      "text/plain": [
       "<Figure size 1008x432 with 1 Axes>"
      ]
     },
     "metadata": {
      "needs_background": "light"
     },
     "output_type": "display_data"
    }
   ],
   "source": [
    "mydict = get_mydict_from_pdf_path(mydict, pdf_path)\n",
    "df = make_df_from_mydict(mydict)\n",
    "draw_df(df)"
   ]
  },
  {
   "cell_type": "code",
   "execution_count": 72,
   "metadata": {},
   "outputs": [],
   "source": [
    "# output\n",
    "df.to_csv('filename and content extraction.csv', index = False)"
   ]
  },
  {
   "cell_type": "code",
   "execution_count": 7,
   "metadata": {},
   "outputs": [],
   "source": [
    "# file path\n",
    "file_path = open('/Users/yanxiaoyu/Desktop/Graduate/RA/part3_10/Bates 1994.pdf', 'rb')\n",
    "# read pdf\n",
    "pdf_reader = PdfFileReader(file_path)"
   ]
  },
  {
   "cell_type": "code",
   "execution_count": 8,
   "metadata": {},
   "outputs": [
    {
     "data": {
      "text/plain": [
       "{'/Author': 'C. J. Bates, P. H. Evans, G. Allison, B. J. Sonko, S. Hoare, S. Goodrich and T. Aspray',\n",
       " '/CreationDate': \"D:20050513080051+06'00'\",\n",
       " '/Creator': 'Acrobat 5.0 Paper Capture Plug-in for Windows',\n",
       " '/ModDate': \"D:20200917220706-07'00'\",\n",
       " '/Producer': 'PDFlib PLOP 2.1.0 (sunOS)/Acrobat 4.0 Import Plug-in for Windows',\n",
       " '/Subject': 'British Journal of Nutrition',\n",
       " '/Title': 'Biochemical indices and neuromuscular function tests in rural Gambian schoolchildren given a riboflavin, or multivitamin plus iron, supplement'}"
      ]
     },
     "execution_count": 8,
     "metadata": {},
     "output_type": "execute_result"
    }
   ],
   "source": [
    "# get document info\n",
    "pdf_reader.getDocumentInfo()"
   ]
  },
  {
   "cell_type": "code",
   "execution_count": 10,
   "metadata": {},
   "outputs": [
    {
     "data": {
      "text/plain": [
       "'Biochemical indices and neuromuscular function tests in rural Gambian schoolchildren given a riboflavin, or multivitamin plus iron, supplement'"
      ]
     },
     "execution_count": 10,
     "metadata": {},
     "output_type": "execute_result"
    }
   ],
   "source": [
    "# get title\n",
    "pdf_reader.getDocumentInfo().title"
   ]
  }
 ],
 "metadata": {
  "kernelspec": {
   "display_name": "Python 3",
   "language": "python",
   "name": "python3"
  },
  "language_info": {
   "codemirror_mode": {
    "name": "ipython",
    "version": 3
   },
   "file_extension": ".py",
   "mimetype": "text/x-python",
   "name": "python",
   "nbconvert_exporter": "python",
   "pygments_lexer": "ipython3",
   "version": "3.7.6"
  }
 },
 "nbformat": 4,
 "nbformat_minor": 4
}
