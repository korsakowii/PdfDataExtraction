{
 "cells": [
  {
   "cell_type": "markdown",
   "metadata": {},
   "source": [
    "# Author & Title Extraction"
   ]
  },
  {
   "cell_type": "code",
   "execution_count": 1,
   "metadata": {},
   "outputs": [],
   "source": [
    "# load module\n",
    "import glob\n",
    "import os\n",
    "#pip install PyPDF2 # download\n",
    "import PyPDF2 as pdf\n",
    "from PyPDF2 import PdfFileWriter, PdfFileReader"
   ]
  },
  {
   "cell_type": "code",
   "execution_count": 2,
   "metadata": {},
   "outputs": [
    {
     "data": {
      "text/plain": [
       "['/Users/yanxiaoyu/Desktop/Graduate/RA/1027/Latham 2003.pdf',\n",
       " '/Users/yanxiaoyu/Desktop/Graduate/RA/1027/Kumar 2014.pdf',\n",
       " '/Users/yanxiaoyu/Desktop/Graduate/RA/1027/Kuong 2019.pdf',\n",
       " '/Users/yanxiaoyu/Desktop/Graduate/RA/1027/Lee 1994.pdf',\n",
       " '/Users/yanxiaoyu/Desktop/Graduate/RA/1027/Kuriyan 2016.pdf']"
      ]
     },
     "execution_count": 2,
     "metadata": {},
     "output_type": "execute_result"
    }
   ],
   "source": [
    "# file path I\n",
    "pdf_path = '/Users/yanxiaoyu/Desktop/Graduate/RA/1027'\n",
    "#pdfs = os.listdir(filePath)\n",
    "pdfs = glob.glob(\"{}/*.pdf\".format(pdf_path))\n",
    "pdfs"
   ]
  },
  {
   "cell_type": "code",
   "execution_count": 3,
   "metadata": {},
   "outputs": [],
   "source": [
    "# extract function\n",
    "from pdfminer.pdfinterp import PDFResourceManager, PDFPageInterpreter\n",
    "from pdfminer.converter import TextConverter\n",
    "from pdfminer.layout import LAParams\n",
    "from pdfminer.pdfpage import PDFPage\n",
    "from io import StringIO\n",
    "\n",
    "def extract_pdf_content(pdf):\n",
    "    rsrcmgr = PDFResourceManager()\n",
    "    codec = 'utf-8'\n",
    "    outfp = StringIO()\n",
    "    laparams = LAParams()\n",
    "    device = TextConverter(rsrcmgr=rsrcmgr, outfp=outfp, codec=codec, laparams=laparams)\n",
    "    with open(pdf, 'rb') as fp:\n",
    "        interpreter = PDFPageInterpreter(rsrcmgr, device)\n",
    "        password = \"\"\n",
    "        maxpages = 0\n",
    "        caching = True\n",
    "        pagenos=set()\n",
    "        for page in PDFPage.get_pages(fp, pagenos, maxpages=maxpages, password=password,caching=caching, check_extractable=True):\n",
    "            interpreter.process_page(page)\n",
    "    mystr = outfp.getvalue()\n",
    "    device.close()\n",
    "    outfp.close()\n",
    "    return mystr"
   ]
  },
  {
   "cell_type": "code",
   "execution_count": 4,
   "metadata": {},
   "outputs": [],
   "source": [
    "content = extract_pdf_content(pdfs[1])\n",
    "#content\n",
    "#print(content)"
   ]
  },
  {
   "cell_type": "code",
   "execution_count": 5,
   "metadata": {},
   "outputs": [
    {
     "name": "stdout",
     "output_type": "stream",
     "text": [
      "Extracting content from /Users/yanxiaoyu/Desktop/Graduate/RA/1027/Latham 2003.pdf ...\n",
      "Extracting content from /Users/yanxiaoyu/Desktop/Graduate/RA/1027/Kumar 2014.pdf ...\n",
      "Extracting content from /Users/yanxiaoyu/Desktop/Graduate/RA/1027/Kuong 2019.pdf ...\n",
      "Extracting content from /Users/yanxiaoyu/Desktop/Graduate/RA/1027/Lee 1994.pdf ...\n",
      "Extracting content from /Users/yanxiaoyu/Desktop/Graduate/RA/1027/Kuriyan 2016.pdf ...\n"
     ]
    }
   ],
   "source": [
    "mydict = {}\n",
    "for pdf in pdfs:\n",
    "    key = pdf.split('/')[-1]\n",
    "    if not key in mydict:\n",
    "        print(\"Extracting content from {} ...\".format(pdf))\n",
    "        mydict[key] = extract_pdf_content(pdf)"
   ]
  },
  {
   "cell_type": "code",
   "execution_count": 6,
   "metadata": {},
   "outputs": [
    {
     "data": {
      "text/plain": [
       "dict_keys(['Latham 2003.pdf', 'Kumar 2014.pdf', 'Kuong 2019.pdf', 'Lee 1994.pdf', 'Kuriyan 2016.pdf'])"
      ]
     },
     "execution_count": 6,
     "metadata": {},
     "output_type": "execute_result"
    }
   ],
   "source": [
    "mydict.keys()"
   ]
  },
  {
   "cell_type": "code",
   "execution_count": 7,
   "metadata": {},
   "outputs": [
    {
     "data": {
      "text/html": [
       "<div>\n",
       "<style scoped>\n",
       "    .dataframe tbody tr th:only-of-type {\n",
       "        vertical-align: middle;\n",
       "    }\n",
       "\n",
       "    .dataframe tbody tr th {\n",
       "        vertical-align: top;\n",
       "    }\n",
       "\n",
       "    .dataframe thead th {\n",
       "        text-align: right;\n",
       "    }\n",
       "</style>\n",
       "<table border=\"1\" class=\"dataframe\">\n",
       "  <thead>\n",
       "    <tr style=\"text-align: right;\">\n",
       "      <th></th>\n",
       "      <th>path</th>\n",
       "      <th>content</th>\n",
       "    </tr>\n",
       "  </thead>\n",
       "  <tbody>\n",
       "    <tr>\n",
       "      <th>0</th>\n",
       "      <td>Latham 2003.pdf</td>\n",
       "      <td>S120Food and Nutrition Bulletin, vol. 24, no. ...</td>\n",
       "    </tr>\n",
       "    <tr>\n",
       "      <th>1</th>\n",
       "      <td>Kumar 2014.pdf</td>\n",
       "      <td>Asia Pac J Clin Nutr 2014;23(3):413-422       ...</td>\n",
       "    </tr>\n",
       "    <tr>\n",
       "      <th>2</th>\n",
       "      <td>Kuong 2019.pdf</td>\n",
       "      <td>Article\\nMulti-Micronutrient Fortiﬁed Rice Imp...</td>\n",
       "    </tr>\n",
       "    <tr>\n",
       "      <th>3</th>\n",
       "      <td>Lee 1994.pdf</td>\n",
       "      <td>Double-blind,\\nmineral\\nlow-calcium\\n\\ndiet’(c...</td>\n",
       "    </tr>\n",
       "    <tr>\n",
       "      <th>4</th>\n",
       "      <td>Kuriyan 2016.pdf</td>\n",
       "      <td>Clinical Nutrition 35 (2016) 190e198\\n\\nConten...</td>\n",
       "    </tr>\n",
       "  </tbody>\n",
       "</table>\n",
       "</div>"
      ],
      "text/plain": [
       "               path                                            content\n",
       "0   Latham 2003.pdf  S120Food and Nutrition Bulletin, vol. 24, no. ...\n",
       "1    Kumar 2014.pdf  Asia Pac J Clin Nutr 2014;23(3):413-422       ...\n",
       "2    Kuong 2019.pdf  Article\\nMulti-Micronutrient Fortiﬁed Rice Imp...\n",
       "3      Lee 1994.pdf  Double-blind,\\nmineral\\nlow-calcium\\n\\ndiet’(c...\n",
       "4  Kuriyan 2016.pdf  Clinical Nutrition 35 (2016) 190e198\\n\\nConten..."
      ]
     },
     "execution_count": 7,
     "metadata": {},
     "output_type": "execute_result"
    }
   ],
   "source": [
    "import pandas as pd\n",
    "df = pd.DataFrame.from_dict(mydict, orient = 'index').reset_index()\n",
    "df.columns = [\"path\", \"content\"]\n",
    "df"
   ]
  },
  {
   "cell_type": "code",
   "execution_count": 8,
   "metadata": {},
   "outputs": [
    {
     "data": {
      "text/html": [
       "<div>\n",
       "<style scoped>\n",
       "    .dataframe tbody tr th:only-of-type {\n",
       "        vertical-align: middle;\n",
       "    }\n",
       "\n",
       "    .dataframe tbody tr th {\n",
       "        vertical-align: top;\n",
       "    }\n",
       "\n",
       "    .dataframe thead th {\n",
       "        text-align: right;\n",
       "    }\n",
       "</style>\n",
       "<table border=\"1\" class=\"dataframe\">\n",
       "  <thead>\n",
       "    <tr style=\"text-align: right;\">\n",
       "      <th></th>\n",
       "      <th>path</th>\n",
       "      <th>content</th>\n",
       "      <th>length</th>\n",
       "    </tr>\n",
       "  </thead>\n",
       "  <tbody>\n",
       "    <tr>\n",
       "      <th>0</th>\n",
       "      <td>Latham 2003.pdf</td>\n",
       "      <td>S120Food and Nutrition Bulletin, vol. 24, no. ...</td>\n",
       "      <td>41613</td>\n",
       "    </tr>\n",
       "    <tr>\n",
       "      <th>1</th>\n",
       "      <td>Kumar 2014.pdf</td>\n",
       "      <td>Asia Pac J Clin Nutr 2014;23(3):413-422       ...</td>\n",
       "      <td>53602</td>\n",
       "    </tr>\n",
       "    <tr>\n",
       "      <th>2</th>\n",
       "      <td>Kuong 2019.pdf</td>\n",
       "      <td>Article\\nMulti-Micronutrient Fortiﬁed Rice Imp...</td>\n",
       "      <td>55732</td>\n",
       "    </tr>\n",
       "    <tr>\n",
       "      <th>3</th>\n",
       "      <td>Lee 1994.pdf</td>\n",
       "      <td>Double-blind,\\nmineral\\nlow-calcium\\n\\ndiet’(c...</td>\n",
       "      <td>51003</td>\n",
       "    </tr>\n",
       "    <tr>\n",
       "      <th>4</th>\n",
       "      <td>Kuriyan 2016.pdf</td>\n",
       "      <td>Clinical Nutrition 35 (2016) 190e198\\n\\nConten...</td>\n",
       "      <td>56267</td>\n",
       "    </tr>\n",
       "  </tbody>\n",
       "</table>\n",
       "</div>"
      ],
      "text/plain": [
       "               path                                            content  length\n",
       "0   Latham 2003.pdf  S120Food and Nutrition Bulletin, vol. 24, no. ...   41613\n",
       "1    Kumar 2014.pdf  Asia Pac J Clin Nutr 2014;23(3):413-422       ...   53602\n",
       "2    Kuong 2019.pdf  Article\\nMulti-Micronutrient Fortiﬁed Rice Imp...   55732\n",
       "3      Lee 1994.pdf  Double-blind,\\nmineral\\nlow-calcium\\n\\ndiet’(c...   51003\n",
       "4  Kuriyan 2016.pdf  Clinical Nutrition 35 (2016) 190e198\\n\\nConten...   56267"
      ]
     },
     "execution_count": 8,
     "metadata": {},
     "output_type": "execute_result"
    }
   ],
   "source": [
    "# Number of words in a pdf\n",
    "df[\"length\"] = df.content.apply(lambda x: len(x))\n",
    "df.head()"
   ]
  },
  {
   "cell_type": "code",
   "execution_count": 9,
   "metadata": {},
   "outputs": [
    {
     "data": {
      "text/html": [
       "<div>\n",
       "<style scoped>\n",
       "    .dataframe tbody tr th:only-of-type {\n",
       "        vertical-align: middle;\n",
       "    }\n",
       "\n",
       "    .dataframe tbody tr th {\n",
       "        vertical-align: top;\n",
       "    }\n",
       "\n",
       "    .dataframe thead th {\n",
       "        text-align: right;\n",
       "    }\n",
       "</style>\n",
       "<table border=\"1\" class=\"dataframe\">\n",
       "  <thead>\n",
       "    <tr style=\"text-align: right;\">\n",
       "      <th></th>\n",
       "      <th>path</th>\n",
       "      <th>content</th>\n",
       "      <th>length</th>\n",
       "      <th>Author</th>\n",
       "      <th>Year</th>\n",
       "    </tr>\n",
       "  </thead>\n",
       "  <tbody>\n",
       "    <tr>\n",
       "      <th>0</th>\n",
       "      <td>Latham 2003.pdf</td>\n",
       "      <td>S120Food and Nutrition Bulletin, vol. 24, no. ...</td>\n",
       "      <td>41613</td>\n",
       "      <td>Latham</td>\n",
       "      <td>2003</td>\n",
       "    </tr>\n",
       "    <tr>\n",
       "      <th>1</th>\n",
       "      <td>Kumar 2014.pdf</td>\n",
       "      <td>Asia Pac J Clin Nutr 2014;23(3):413-422       ...</td>\n",
       "      <td>53602</td>\n",
       "      <td>Kumar</td>\n",
       "      <td>2014</td>\n",
       "    </tr>\n",
       "    <tr>\n",
       "      <th>2</th>\n",
       "      <td>Kuong 2019.pdf</td>\n",
       "      <td>Article\\nMulti-Micronutrient Fortiﬁed Rice Imp...</td>\n",
       "      <td>55732</td>\n",
       "      <td>Kuong</td>\n",
       "      <td>2019</td>\n",
       "    </tr>\n",
       "    <tr>\n",
       "      <th>3</th>\n",
       "      <td>Lee 1994.pdf</td>\n",
       "      <td>Double-blind,\\nmineral\\nlow-calcium\\n\\ndiet’(c...</td>\n",
       "      <td>51003</td>\n",
       "      <td>Lee</td>\n",
       "      <td>1994</td>\n",
       "    </tr>\n",
       "    <tr>\n",
       "      <th>4</th>\n",
       "      <td>Kuriyan 2016.pdf</td>\n",
       "      <td>Clinical Nutrition 35 (2016) 190e198\\n\\nConten...</td>\n",
       "      <td>56267</td>\n",
       "      <td>Kuriyan</td>\n",
       "      <td>2016</td>\n",
       "    </tr>\n",
       "  </tbody>\n",
       "</table>\n",
       "</div>"
      ],
      "text/plain": [
       "               path                                            content  \\\n",
       "0   Latham 2003.pdf  S120Food and Nutrition Bulletin, vol. 24, no. ...   \n",
       "1    Kumar 2014.pdf  Asia Pac J Clin Nutr 2014;23(3):413-422       ...   \n",
       "2    Kuong 2019.pdf  Article\\nMulti-Micronutrient Fortiﬁed Rice Imp...   \n",
       "3      Lee 1994.pdf  Double-blind,\\nmineral\\nlow-calcium\\n\\ndiet’(c...   \n",
       "4  Kuriyan 2016.pdf  Clinical Nutrition 35 (2016) 190e198\\n\\nConten...   \n",
       "\n",
       "   length   Author  Year  \n",
       "0   41613   Latham  2003  \n",
       "1   53602    Kumar  2014  \n",
       "2   55732    Kuong  2019  \n",
       "3   51003      Lee  1994  \n",
       "4   56267  Kuriyan  2016  "
      ]
     },
     "execution_count": 9,
     "metadata": {},
     "output_type": "execute_result"
    }
   ],
   "source": [
    "new = df[\"path\"].str.split(\".\", expand = True)[0].str.split(\" \", expand = True) \n",
    "df['Author'] = new[0]\n",
    "df['Year'] = new[1]\n",
    "df.head()"
   ]
  },
  {
   "cell_type": "code",
   "execution_count": 10,
   "metadata": {},
   "outputs": [
    {
     "data": {
      "text/plain": [
       "(array([0, 1, 2, 3, 4]), <a list of 5 Text xticklabel objects>)"
      ]
     },
     "execution_count": 10,
     "metadata": {},
     "output_type": "execute_result"
    },
    {
     "data": {
      "image/png": "[encoded data removed]",
      "text/plain": [
       "<Figure size 1008x432 with 1 Axes>"
      ]
     },
     "metadata": {
      "needs_background": "light"
     },
     "output_type": "display_data"
    }
   ],
   "source": [
    "# words visualization\n",
    "%matplotlib inline\n",
    "import matplotlib.pyplot as plt\n",
    "plt.figure(figsize=(14, 6))\n",
    "df.set_index('path').length.plot(kind='bar')\n",
    "plt.xticks(rotation=45)"
   ]
  },
  {
   "cell_type": "code",
   "execution_count": 11,
   "metadata": {},
   "outputs": [],
   "source": [
    "def get_mydict_from_pdf_path(mydict, pdf_path):\n",
    "    pdfs = glob.glob(\"{}/*.pdf\".format(pdf_path))\n",
    "    for pdf in pdfs:\n",
    "        key = pdf.split('/')[-1]\n",
    "        if not key in mydict:\n",
    "            print(\"Extracting content from {} ...\".format(pdf))\n",
    "            mydict[key] = extract_pdf_content(pdf)\n",
    "    return mydict"
   ]
  },
  {
   "cell_type": "code",
   "execution_count": 12,
   "metadata": {},
   "outputs": [],
   "source": [
    "def make_df_from_mydict(mydict):\n",
    "    df = pd.DataFrame.from_dict(mydict, orient='index').reset_index()\n",
    "    df.columns = [\"path\", \"content\"]\n",
    "    return df"
   ]
  },
  {
   "cell_type": "code",
   "execution_count": 16,
   "metadata": {},
   "outputs": [],
   "source": [
    "def draw_df(df):\n",
    "    new = df[\"path\"].str.split(\".\", expand = True)[0].str.split(\" \", expand = True) \n",
    "    df['Author'] = new[0]\n",
    "    df['Year'] = new[1]\n",
    "    df[\"length\"] = df.content.apply(lambda x: len(x))\n",
    "    plt.figure(figsize=(14, 6))\n",
    "    df.set_index('path').length.plot(kind='bar')\n",
    "    plt.xticks(rotation=45)"
   ]
  },
  {
   "cell_type": "code",
   "execution_count": 17,
   "metadata": {},
   "outputs": [
    {
     "data": {
      "image/png": "[encoded data removed]",
      "text/plain": [
       "<Figure size 1008x432 with 1 Axes>"
      ]
     },
     "metadata": {
      "needs_background": "light"
     },
     "output_type": "display_data"
    }
   ],
   "source": [
    "mydict = get_mydict_from_pdf_path(mydict, pdf_path)\n",
    "df = make_df_from_mydict(mydict)\n",
    "draw_df(df)"
   ]
  },
  {
   "cell_type": "code",
   "execution_count": 18,
   "metadata": {},
   "outputs": [],
   "source": [
    "# output\n",
    "df.to_csv('filename and content extraction.csv', index = False)"
   ]
  },
  {
   "cell_type": "code",
   "execution_count": 7,
   "metadata": {},
   "outputs": [],
   "source": [
    "# file path\n",
    "file_path = open('/Users/yanxiaoyu/Desktop/Graduate/RA/part3_10/Bates 1994.pdf', 'rb')\n",
    "# read pdf\n",
    "pdf_reader = PdfFileReader(file_path)"
   ]
  },
  {
   "cell_type": "code",
   "execution_count": 8,
   "metadata": {},
   "outputs": [
    {
     "data": {
      "text/plain": [
       "{'/Author': 'C. J. Bates, P. H. Evans, G. Allison, B. J. Sonko, S. Hoare, S. Goodrich and T. Aspray',\n",
       " '/CreationDate': \"D:20050513080051+06'00'\",\n",
       " '/Creator': 'Acrobat 5.0 Paper Capture Plug-in for Windows',\n",
       " '/ModDate': \"D:20200917220706-07'00'\",\n",
       " '/Producer': 'PDFlib PLOP 2.1.0 (sunOS)/Acrobat 4.0 Import Plug-in for Windows',\n",
       " '/Subject': 'British Journal of Nutrition',\n",
       " '/Title': 'Biochemical indices and neuromuscular function tests in rural Gambian schoolchildren given a riboflavin, or multivitamin plus iron, supplement'}"
      ]
     },
     "execution_count": 8,
     "metadata": {},
     "output_type": "execute_result"
    }
   ],
   "source": [
    "# get document info\n",
    "pdf_reader.getDocumentInfo()"
   ]
  },
  {
   "cell_type": "code",
   "execution_count": 10,
   "metadata": {},
   "outputs": [
    {
     "data": {
      "text/plain": [
       "'Biochemical indices and neuromuscular function tests in rural Gambian schoolchildren given a riboflavin, or multivitamin plus iron, supplement'"
      ]
     },
     "execution_count": 10,
     "metadata": {},
     "output_type": "execute_result"
    }
   ],
   "source": [
    "# get title\n",
    "pdf_reader.getDocumentInfo().title"
   ]
  }
 ],
 "metadata": {
  "kernelspec": {
   "display_name": "Python 3",
   "language": "python",
   "name": "python3"
  },
  "language_info": {
   "codemirror_mode": {
    "name": "ipython",
    "version": 3
   },
   "file_extension": ".py",
   "mimetype": "text/x-python",
   "name": "python",
   "nbconvert_exporter": "python",
   "pygments_lexer": "ipython3",
   "version": "3.7.6"
  }
 },
 "nbformat": 4,
 "nbformat_minor": 4
}
